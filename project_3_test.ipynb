{
 "cells": [
  {
   "cell_type": "code",
   "execution_count": 327,
   "metadata": {},
   "outputs": [],
   "source": [
    "import numpy as np\n",
    "import pandas as pd\n",
    "training = pd.read_csv(\"train.csv\")\n",
    "income = pd.read_csv(\"income.csv\")\n",
    "training = pd.merge(training, income, 'inner')"
   ]
  },
  {
   "cell_type": "code",
   "execution_count": 328,
   "metadata": {},
   "outputs": [],
   "source": [
    "#Add features \n",
    "training['TotalSF'] = (training['1stFlrSF'] + training['2ndFlrSF'] + training['TotalBsmtSF'])\n",
    "training['Age'] = 2010 - training['YearBuilt']"
   ]
  },
  {
   "cell_type": "code",
   "execution_count": 329,
   "metadata": {},
   "outputs": [
    {
     "name": "stdout",
     "output_type": "stream",
     "text": [
      "SalePrice        6.292922e+09\n",
      "Income           2.121492e+08\n",
      "LotArea          9.914882e+07\n",
      "TotalSF          6.777819e+05\n",
      "GrLivArea        2.773504e+05\n",
      "MiscVal          2.478223e+05\n",
      "BsmtFinSF1       2.062330e+05\n",
      "BsmtUnfSF        1.956400e+05\n",
      "TotalBsmtSF      1.924658e+05\n",
      "2ndFlrSF         1.909395e+05\n",
      "Id               1.774305e+05\n",
      "1stFlrSF         1.496561e+05\n",
      "GarageArea       4.588605e+04\n",
      "MasVnrArea       3.289200e+04\n",
      "BsmtFinSF2       2.473435e+04\n",
      "WoodDeckSF       1.534581e+04\n",
      "OpenPorchSF      4.401430e+03\n",
      "EnclosedPorch    3.757644e+03\n",
      "ScreenPorch      3.052226e+03\n",
      "LowQualFinSF     2.380259e+03\n",
      "MSSubClass       1.788000e+03\n",
      "PoolArea         1.625298e+03\n",
      "YearBuilt        9.170843e+02\n",
      "Age              9.170843e+02\n",
      "3SsnPorch        8.653487e+02\n",
      "GarageYrBlt      6.134044e+02\n",
      "LotFrontage      5.887901e+02\n",
      "YearRemodAdd     4.282859e+02\n",
      "MoSold           7.313735e+00\n",
      "TotRmsAbvGrd     2.647043e+00\n",
      "OverallQual      1.910315e+00\n",
      "YrSold           1.766779e+00\n",
      "OverallCond      1.233361e+00\n",
      "dtype: float64\n"
     ]
    }
   ],
   "source": [
    "#View Correlation Matrix\n",
    "#print(corr_matrix['SalePrice'].sort_values(ascending = False))\n",
    "variances = np.var(training, 0)\n",
    "print(variances[variances > 1].sort_values(ascending = False))"
   ]
  },
  {
   "cell_type": "code",
   "execution_count": 330,
   "metadata": {},
   "outputs": [],
   "source": [
    "#Turning Central Air to Numeric\n",
    "CentralAir = training['CentralAir']\n",
    "CentralAir_cat_encoded, CentralAir_Categories = CentralAir.factorize()\n",
    "CentralAir_Num = pd.DataFrame(CentralAir_cat_encoded)\n",
    "training['CentralAir'] =  CentralAir_Num"
   ]
  },
  {
   "cell_type": "code",
   "execution_count": 331,
   "metadata": {},
   "outputs": [],
   "source": [
    "#Normalizing and Standardizing\n",
    "from sklearn import preprocessing\n",
    "from sklearn.preprocessing import MinMaxScaler\n",
    "from sklearn.preprocessing import StandardScaler\n",
    "scaler = preprocessing.MinMaxScaler()\n",
    "training['FullBath_Norm'] = scaler.fit_transform(training[[\"FullBath\"]])\n",
    "scaler = preprocessing.StandardScaler()\n",
    "training['FullBath_Stand'] = scaler.fit_transform(training[[\"FullBath\"]])\n",
    "\n",
    "scaler = preprocessing.MinMaxScaler()\n",
    "training['OverallQual_Norm'] = scaler.fit_transform(training[[\"OverallQual\"]])\n",
    "scaler = preprocessing.StandardScaler()\n",
    "training['OverallQual_Stand'] = scaler.fit_transform(training[[\"OverallQual\"]])"
   ]
  },
  {
   "cell_type": "code",
   "execution_count": 332,
   "metadata": {},
   "outputs": [],
   "source": [
    "#Making dummy variables\n",
    "#Sale Condition\n",
    "training2 = training.copy()\n",
    "SaleCondition_dummy = pd.get_dummies(training2['SaleCondition'])\n",
    "SaleCondition_dummy = SaleCondition_dummy.drop([\"Abnorml\", \"AdjLand\", \"Alloca\", \"Family\", \"Partial\"], 1)\n",
    "training2 = pd.concat([training2, SaleCondition_dummy], 1)\n",
    "training = training2.copy()\n",
    "\n",
    "#MSZoning\n",
    "training3 = training.copy()\n",
    "MSZoning_dummy = pd.get_dummies(training3['MSZoning'])\n",
    "MSZoning_dummy = MSZoning_dummy.drop([\"C (all)\"], 1)\n",
    "training3 = pd.concat([training3, MSZoning_dummy], 1)\n",
    "training = training3.copy()\n",
    "\n",
    "#Neighborhood\n",
    "training4 = training.copy()\n",
    "Neighborhood_dummy = pd.get_dummies(training4['Neighborhood'])\n",
    "Neighborhood_dummy = Neighborhood_dummy.drop([\"Blmngtn\"], 1)\n",
    "training4 = pd.concat([training4, Neighborhood_dummy], 1)\n",
    "training = training4.copy()\n",
    "\n",
    "#Exterior Quality\n",
    "training5 = training.copy()\n",
    "ExterQual_dummy = pd.get_dummies(training5['ExterQual'])\n",
    "training5 = pd.concat([training5, ExterQual_dummy], 1)\n",
    "training = training5.copy()\n",
    "\n",
    "#Exterior Quality\n",
    "#training6 = training.copy()\n",
    "#HeatingQC_dummy = pd.get_dummies(training6['HeatingQC'])\n",
    "#HeatingQC_dummy = HeatingQC_dummy.drop([\"Po\"], 1)\n",
    "#training6 = pd.concat([training6, HeatingQC_dummy], 1)\n",
    "#training = training6.copy()\n",
    "\n",
    "conv_dict={'Ex':5., 'Gd':4., 'TA':3., 'Fa':2., 'Po':1.}\n",
    "training['KitchenQual_Num'] = (training['KitchenQual']).apply(conv_dict.get)\n",
    "training['KitchenQual_Num'] = pd.to_numeric(training['KitchenQual_Num'])\n",
    "\n",
    "conv_dict={'Ex':5., 'Gd':4., 'TA':3., 'Fa':2., 'Po':1., ' ':0}\n",
    "training['HeatingQC_Num'] = (training['HeatingQC']).apply(conv_dict.get)\n",
    "\n",
    "conv_dict={'Ex':5., 'Gd':4., 'TA':3., 'Fa':2., 'Po':1., ' ':0}\n",
    "training['ExterQual_Num'] = (training['ExterQual']).apply(conv_dict.get)\n",
    "\n",
    "conv_dict={'Ex':5., 'Gd':4., 'TA':3., 'Fa':2., 'Po':1., ' ':0}\n",
    "training['ExterCond_Num'] = (training['ExterCond']).apply(conv_dict.get)\n",
    "\n",
    "conv_dict={'Ex':5., 'Gd':4., 'TA':3., 'Fa':2., 'Po':1., ' ':0}\n",
    "training['BsmtCond_Num'] = (training['BsmtCond']).apply(conv_dict.get)\n",
    "\n",
    "training['BsmtCond_Num'] = training['BsmtCond_Num'].fillna(0)\n",
    "\n",
    "#Kitchen Quality\n",
    "#training6 = training.copy()\n",
    "#KitchenQual_dummy = pd.get_dummies(training6['KitchenQual'])\n",
    "#Neighborhood_dummy = Neighborhood_dummy.drop([\"\"], 1)\n",
    "#training6 = pd.concat([training5, KitchenQual_dummy], 1)\n",
    "#training = training6.copy()"
   ]
  },
  {
   "cell_type": "code",
   "execution_count": 333,
   "metadata": {},
   "outputs": [],
   "source": [
    "training['Condition_Sum'] = training['KitchenQual_Num'] + training['ExterQual_Num'] + training['ExterCond_Num'] + training['HeatingQC_Num'] + training['BsmtCond_Num']\n",
    "training['Condition_Avg'] = training['Condition_Sum']/5\n",
    "\n",
    "training['Condition_W_Avg'] = training['KitchenQual_Num']*0.22 + training['ExterQual_Num']*0.14 + training['ExterCond_Num']*0.18 + training['HeatingQC_Num']*0.27 + training['BsmtCond_Num']*0.19\n"
   ]
  },
  {
   "cell_type": "code",
   "execution_count": 334,
   "metadata": {},
   "outputs": [],
   "source": [
    "#Remove outliers\n",
    "training = training[training['Id'] != 524]\n",
    "training = training[training['Id'] != 1299]\n",
    "training = training[training['Id'] != 1101]\n",
    "training = training[training['SalePrice'] != 39300]\n",
    "training = training[training['SalePrice'] < 355000]\n",
    "training = training[training['SalePrice'] > 63000]\n",
    "training = training[training['BedroomAbvGr'] != 0]"
   ]
  },
  {
   "cell_type": "code",
   "execution_count": 335,
   "metadata": {},
   "outputs": [],
   "source": [
    "training['GarageYrBlt'] = training['GarageYrBlt'].fillna(0)"
   ]
  },
  {
   "cell_type": "code",
   "execution_count": 336,
   "metadata": {},
   "outputs": [
    {
     "name": "stdout",
     "output_type": "stream",
     "text": [
      "(1099, 59) (1099,)\n",
      "(275, 59) (275,)\n"
     ]
    }
   ],
   "source": [
    "# create training and testing vars\n",
    "from sklearn import linear_model\n",
    "from sklearn.model_selection import train_test_split\n",
    "x = np.array(training[['OverallQual', 'YearRemodAdd', 'LotArea', 'CentralAir', 'BsmtFinSF1', 'HeatingQC_Num', 'Ex', 'Fa', 'Gd', 'TA', 'ExterCond_Num', 'KitchenQual_Num', 'BsmtCond_Num', '1stFlrSF', '2ndFlrSF', 'TotalBsmtSF', 'BedroomAbvGr', 'FullBath_Norm', 'HalfBath', 'Age', 'TotRmsAbvGrd', 'GarageArea', 'Fireplaces', 'BsmtFullBath', 'BsmtHalfBath', 'WoodDeckSF', 'OpenPorchSF', 'EnclosedPorch', '3SsnPorch', 'ScreenPorch', 'MiscVal', 'Normal', 'FV', 'RH', 'RL', 'RM', 'Blueste', 'BrDale', 'BrkSide', 'ClearCr', 'CollgCr', 'Crawfor', 'Edwards', 'Gilbert', 'IDOTRR', 'MeadowV', 'Mitchel', 'NAmes', 'NPkVill', 'NWAmes', 'NoRidge', 'NridgHt', 'OldTown', 'SWISU', 'Sawyer', 'SawyerW', 'Somerst', 'StoneBr', 'Timber']])\n",
    "y = np.array(training['SalePrice'])\n",
    "X_train, X_test, y_train, y_test = train_test_split(x, y, test_size=0.2)\n",
    "print(X_train.shape, y_train.shape)\n",
    "print(X_test.shape, y_test.shape)"
   ]
  },
  {
   "cell_type": "code",
   "execution_count": 337,
   "metadata": {},
   "outputs": [
    {
     "data": {
      "text/plain": [
       "(array([ 1.04111319e+04,  1.84671394e+02,  5.02958360e-01, -3.41275414e+03,\n",
       "         1.60921973e+01,  1.63213741e+03,  1.60863886e+04, -5.09448397e+03,\n",
       "        -4.07718439e+03, -6.91472028e+03,  1.17686437e+02,  7.44189340e+03,\n",
       "         3.14666844e+02,  4.22971863e+01,  4.55724783e+01,  1.43087719e+01,\n",
       "        -1.01959300e+03, -7.02535306e+03, -1.67195209e+03, -2.76301941e+02,\n",
       "         1.42171397e+02,  2.71715653e+01,  3.48654671e+03,  1.82959217e+03,\n",
       "        -1.49484432e+03,  2.17065518e+01,  4.33810665e+01,  1.18044403e+01,\n",
       "         1.88529118e+01,  3.14069249e+01, -4.76821221e-03,  3.29446863e+03,\n",
       "         6.86186358e+03,  1.33491482e+04,  1.92851202e+04,  4.77461827e+03,\n",
       "         1.38332640e+02, -5.32149412e+03,  1.45859255e+04,  5.73223132e+03,\n",
       "        -5.60028867e+02,  2.46833255e+04, -2.77033080e+03, -4.26441187e+02,\n",
       "         1.28369951e+04, -5.42329129e+03, -8.12128773e+03, -2.82557271e+03,\n",
       "        -7.09771259e+03, -3.61642745e+03,  2.56837906e+04,  1.90431000e+04,\n",
       "         2.93511333e+03, -1.46014306e+03, -3.52654402e+03, -5.67406538e+03,\n",
       "         1.71560435e+04,  7.35519265e+03,  5.56878975e+03]),\n",
       " -399776.1357509839)"
      ]
     },
     "execution_count": 337,
     "metadata": {},
     "output_type": "execute_result"
    }
   ],
   "source": [
    "##Ridge Coefficients\n",
    "ridge = linear_model.Ridge(alpha = 1) # create a ridge regression instance\n",
    "ridge.fit(x, y) # fit data\n",
    "ridge.coef_, ridge.intercept_ # print out the coefficients"
   ]
  },
  {
   "cell_type": "code",
   "execution_count": 338,
   "metadata": {},
   "outputs": [
    {
     "data": {
      "text/plain": [
       "(array([ 1.03217702e+04,  1.86218084e+02,  4.94956134e-01, -3.49969536e+03,\n",
       "         1.59775171e+01,  1.60258653e+03,  2.14151325e+04, -0.00000000e+00,\n",
       "         7.49617011e+02, -2.23992917e+03,  9.09276725e+01,  7.35943113e+03,\n",
       "         3.35582471e+02,  4.22482620e+01,  4.54162075e+01,  1.43223335e+01,\n",
       "        -1.23523988e+03, -7.02834730e+03, -1.70515523e+03, -2.86030634e+02,\n",
       "         2.55455711e+02,  2.71554139e+01,  3.53765758e+03,  1.78501636e+03,\n",
       "        -1.15944929e+03,  2.17796837e+01,  4.25075406e+01,  1.16162643e+01,\n",
       "         1.83992485e+01,  3.15124380e+01,  1.56840772e-03,  3.27830522e+03,\n",
       "         1.55241304e+04,  2.32056723e+04,  2.82651660e+04,  1.28775608e+04,\n",
       "         5.10081811e+03, -0.00000000e+00,  2.04559705e+04,  1.09180459e+04,\n",
       "         4.11113444e+03,  3.02725022e+04,  2.18904477e+03,  4.14364488e+03,\n",
       "         2.05179189e+04, -6.25760214e+01, -3.41651463e+03,  2.06527831e+03,\n",
       "        -3.04998243e+03,  1.14408468e+03,  3.12531344e+04,  2.38325510e+04,\n",
       "         9.03539083e+03,  3.61459098e+03,  1.31640010e+03, -1.11486578e+03,\n",
       "         2.21604032e+04,  1.24661430e+04,  1.04218727e+04]),\n",
       " -419893.1538635174)"
      ]
     },
     "execution_count": 338,
     "metadata": {},
     "output_type": "execute_result"
    }
   ],
   "source": [
    "#Lasso Coefficients\n",
    "lasso = linear_model.Lasso(alpha = 1) # create a ridge regression instance\n",
    "lasso.fit(x, y) # fit data\n",
    "lasso.coef_, lasso.intercept_ # print out the coefficients"
   ]
  },
  {
   "cell_type": "code",
   "execution_count": 339,
   "metadata": {},
   "outputs": [
    {
     "name": "stdout",
     "output_type": "stream",
     "text": [
      "The determination of ridge regression is: 0.8940\n",
      "The determination of lasso regression is: 0.8942\n"
     ]
    }
   ],
   "source": [
    "print(\"The determination of ridge regression is: %.4f\" %ridge.score(x, y))\n",
    "print(\"The determination of lasso regression is: %.4f\" %lasso.score(x, y))"
   ]
  },
  {
   "cell_type": "code",
   "execution_count": 340,
   "metadata": {},
   "outputs": [],
   "source": [
    "#Ridge Regression used to be best of the linear models\n",
    "\n",
    "scoredata = []\n",
    "floatModelScore = np.array(scoredata, dtype = np.float32)\n",
    "for l in range(2000):\n",
    "    X_train, X_test, y_train, y_test = train_test_split(x, y, test_size=0.2)\n",
    "    ridge = linear_model.Ridge(alpha = 10) # create a ridge regression instance\n",
    "    ridge.fit(x, y)\n",
    "    model = ridge.fit(X_train, y_train)\n",
    "    predictions = ridge.predict(X_test)\n",
    "    temp1 = model.score(X_test, y_test)\n",
    "    floatModelScore = np.append(floatModelScore, temp1)\n",
    "    #scoredata = scoredata.append(model.score(X_test, y_test))"
   ]
  },
  {
   "cell_type": "code",
   "execution_count": 341,
   "metadata": {},
   "outputs": [
    {
     "data": {
      "text/plain": [
       "0.8789682891213807"
      ]
     },
     "execution_count": 341,
     "metadata": {},
     "output_type": "execute_result"
    }
   ],
   "source": [
    "np.mean(floatModelScore)"
   ]
  },
  {
   "cell_type": "code",
   "execution_count": 342,
   "metadata": {},
   "outputs": [],
   "source": [
    "#Lasso Regression is NOW BETTER than Ridge\n",
    "\n",
    "scoredata = []\n",
    "floatModelScore = np.array(scoredata, dtype = np.float32)\n",
    "for l in range(1000):\n",
    "    X_train, X_test, y_train, y_test = train_test_split(x, y, test_size=0.2)\n",
    "    lasso = linear_model.Lasso(alpha = 10) # create a ridge regression instance\n",
    "    lasso.fit(x, y)\n",
    "    model = lasso.fit(X_train, y_train)\n",
    "    predictions = lasso.predict(X_test)\n",
    "    temp1 = model.score(X_test, y_test)\n",
    "    floatModelScore = np.append(floatModelScore, temp1)\n",
    "    #scoredata = scoredata.append(model.score(X_test, y_test))"
   ]
  },
  {
   "cell_type": "code",
   "execution_count": 343,
   "metadata": {},
   "outputs": [
    {
     "data": {
      "text/plain": [
       "0.8788642065811743"
      ]
     },
     "execution_count": 343,
     "metadata": {},
     "output_type": "execute_result"
    }
   ],
   "source": [
    "np.mean(floatModelScore)"
   ]
  },
  {
   "cell_type": "code",
   "execution_count": 344,
   "metadata": {},
   "outputs": [
    {
     "name": "stdout",
     "output_type": "stream",
     "text": [
      "Cross-validated scores: [0.8934222  0.7625589  0.59983716 0.77199933 0.90977176 0.87640597\n",
      " 0.68508175 0.86791087 0.85594327 0.80611688]\n"
     ]
    }
   ],
   "source": [
    "from sklearn.cross_validation import cross_val_score, cross_val_predict\n",
    "from sklearn import metrics\n",
    "scores = cross_val_score(model, x, y, cv=10)\n",
    "print('Cross-validated scores:', scores)"
   ]
  },
  {
   "cell_type": "code",
   "execution_count": 345,
   "metadata": {},
   "outputs": [
    {
     "data": {
      "text/plain": [
       "<matplotlib.axes._subplots.AxesSubplot at 0x111640400>"
      ]
     },
     "execution_count": 345,
     "metadata": {},
     "output_type": "execute_result"
    },
    {
     "data": {
      "image/png": "[encoded data removed]",
      "text/plain": [
       "<matplotlib.figure.Figure at 0x111994e48>"
      ]
     },
     "metadata": {},
     "output_type": "display_data"
    }
   ],
   "source": [
    "import seaborn as sns\n",
    "predictions = cross_val_predict(model, x, y, cv=10)\n",
    "sns.regplot(y, predictions)\n",
    "#sns.regplot(y[y < 130000], predictions[y < 130000])\n",
    "#sns.regplot(y[y >= 130000 & y < 255000], predictions[y >= 130000 & y < 255000])\n",
    "#sns.regplot(y[y >= 255000], predictions[y >= 255000])\n",
    "#sns.regplot(y, predictions, order = 2)"
   ]
  },
  {
   "cell_type": "code",
   "execution_count": 346,
   "metadata": {
    "scrolled": true
   },
   "outputs": [
    {
     "name": "stdout",
     "output_type": "stream",
     "text": [
      "Cross-Predicted Accuracy: 0.8497645309681421\n"
     ]
    }
   ],
   "source": [
    "accuracy = metrics.r2_score(y, predictions)\n",
    "print('Cross-Predicted Accuracy:', accuracy)"
   ]
  },
  {
   "cell_type": "code",
   "execution_count": null,
   "metadata": {},
   "outputs": [],
   "source": []
  },
  {
   "cell_type": "code",
   "execution_count": 347,
   "metadata": {},
   "outputs": [],
   "source": [
    "##Test Data\n",
    "test = pd.read_csv(\"test.csv\")"
   ]
  },
  {
   "cell_type": "code",
   "execution_count": 348,
   "metadata": {},
   "outputs": [],
   "source": [
    "#Add important variables\n",
    "test['TotalSF'] = (test['1stFlrSF'] + test['2ndFlrSF'] + test['TotalBsmtSF'])\n",
    "test['Age'] = 2010 - test['YearBuilt']"
   ]
  },
  {
   "cell_type": "code",
   "execution_count": 349,
   "metadata": {},
   "outputs": [],
   "source": [
    "#Turning Central Air to Numeric\n",
    "CentralAir = test['CentralAir']\n",
    "CentralAir_cat_encoded, CentralAir_Categories = CentralAir.factorize()\n",
    "CentralAir_Num = pd.DataFrame(CentralAir_cat_encoded)\n",
    "test['CentralAir'] =  CentralAir_Num"
   ]
  },
  {
   "cell_type": "code",
   "execution_count": 350,
   "metadata": {},
   "outputs": [],
   "source": [
    "#Normalizing and Standardizing\n",
    "from sklearn import preprocessing\n",
    "from sklearn.preprocessing import MinMaxScaler\n",
    "from sklearn.preprocessing import StandardScaler\n",
    "scaler = preprocessing.MinMaxScaler()\n",
    "test['FullBath_Norm'] = scaler.fit_transform(test[[\"FullBath\"]])\n",
    "scaler = preprocessing.StandardScaler()\n",
    "test['FullBath_Stand'] = scaler.fit_transform(test[[\"FullBath\"]])\n",
    "\n",
    "scaler = preprocessing.MinMaxScaler()\n",
    "test['OverallQual_Norm'] = scaler.fit_transform(test[[\"OverallQual\"]])\n",
    "scaler = preprocessing.StandardScaler()\n",
    "test['OverallQual_Stand'] = scaler.fit_transform(test[[\"OverallQual\"]])"
   ]
  },
  {
   "cell_type": "code",
   "execution_count": 351,
   "metadata": {},
   "outputs": [],
   "source": [
    "#Making dummy variables\n",
    "#Sale Condition\n",
    "test2 = test.copy()\n",
    "SaleCondition_dummy = pd.get_dummies(test2['SaleCondition'])\n",
    "SaleCondition_dummy = SaleCondition_dummy.drop([\"Abnorml\", \"AdjLand\", \"Alloca\", \"Family\", \"Partial\"], 1)\n",
    "test2 = pd.concat([test2, SaleCondition_dummy], 1)\n",
    "test = test2.copy()\n",
    "\n",
    "#MSZoning\n",
    "test3 = test.copy()\n",
    "MSZoning_dummy = pd.get_dummies(test3['MSZoning'])\n",
    "MSZoning_dummy = MSZoning_dummy.drop([\"C (all)\"], 1)\n",
    "test3 = pd.concat([test3, MSZoning_dummy], 1)\n",
    "test = test3.copy()\n",
    "\n",
    "#Neighborhood\n",
    "test4 = test.copy()\n",
    "Neighborhood_dummy = pd.get_dummies(test4['Neighborhood'])\n",
    "Neighborhood_dummy = Neighborhood_dummy.drop([\"Blmngtn\"], 1)\n",
    "test4 = pd.concat([test4, Neighborhood_dummy], 1)\n",
    "test = test4.copy()\n",
    "\n",
    "#Exterior Quality\n",
    "test5 = test.copy()\n",
    "ExterQual_dummy = pd.get_dummies(test5['ExterQual'])\n",
    "#Neighborhood_dummy = Neighborhood_dummy.drop([\"\"], 1)\n",
    "test5 = pd.concat([test5, ExterQual_dummy], 1)\n",
    "test = test5.copy()\n",
    "\n",
    "conv_dict={'Ex':5., 'Gd':4., 'TA':3., 'Fa':2., 'Po':1.}\n",
    "test['KitchenQual_Num'] = (test['KitchenQual']).apply(conv_dict.get)\n",
    "test['KitchenQual_Num'] = pd.to_numeric(test['KitchenQual_Num'])\n",
    "\n",
    "conv_dict={'Ex':5., 'Gd':4., 'TA':3., 'Fa':2., 'Po':1.}\n",
    "test['HeatingQC_Num'] = test['HeatingQC'].apply(conv_dict.get)\n",
    "test['HeatingQC_Num'] = pd.to_numeric(test['HeatingQC_Num'])\n",
    "\n",
    "conv_dict={'Ex':5., 'Gd':4., 'TA':3., 'Fa':2., 'Po':1., ' ':0}\n",
    "test['ExterQual_Num'] = (test['ExterQual']).apply(conv_dict.get)\n",
    "\n",
    "conv_dict={'Ex':5., 'Gd':4., 'TA':3., 'Fa':2., 'Po':1., ' ':0}\n",
    "test['ExterCond_Num'] = (test['ExterCond']).apply(conv_dict.get)\n",
    "\n",
    "conv_dict={'Ex':5., 'Gd':4., 'TA':3., 'Fa':2., 'Po':1., ' ':0}\n",
    "test['BsmtCond_Num'] = (test['BsmtCond']).apply(conv_dict.get)"
   ]
  },
  {
   "cell_type": "code",
   "execution_count": 352,
   "metadata": {},
   "outputs": [],
   "source": [
    "test['KitchenQual_Num'] = test['KitchenQual_Num'].fillna(3)\n",
    "test['BsmtFullBath'] = test['BsmtFullBath'].fillna(0)\n",
    "test['BsmtHalfBath'] = test['BsmtHalfBath'].fillna(1)\n",
    "test['TotalBsmtSF'] = test['TotalBsmtSF'].fillna(0)\n",
    "test['BsmtCond_Num'] = test['BsmtCond_Num'].fillna(0)"
   ]
  },
  {
   "cell_type": "code",
   "execution_count": 353,
   "metadata": {},
   "outputs": [
    {
     "name": "stdout",
     "output_type": "stream",
     "text": [
      "The determination of lasso regression is: 0.8933\n"
     ]
    }
   ],
   "source": [
    "## determination\n",
    "print(\"The determination of lasso regression is: %.4f\" %lasso.score(x, y))"
   ]
  },
  {
   "cell_type": "code",
   "execution_count": 354,
   "metadata": {},
   "outputs": [],
   "source": [
    "test['GarageArea'] = test['GarageArea'].fillna(0)\n",
    "test['BsmtFinSF1'] = test['BsmtFinSF1'].fillna(0)"
   ]
  },
  {
   "cell_type": "code",
   "execution_count": 355,
   "metadata": {},
   "outputs": [],
   "source": [
    "test['TotalSF'] = test['TotalSF'].fillna(test['GrLivArea'])"
   ]
  },
  {
   "cell_type": "code",
   "execution_count": 356,
   "metadata": {},
   "outputs": [],
   "source": [
    "## prediction\n",
    "y_predict = lasso.predict(test[['OverallQual', 'YearRemodAdd', 'LotArea', 'CentralAir', 'BsmtFinSF1', 'HeatingQC_Num', 'Ex', 'Fa', 'Gd', 'TA', 'ExterCond_Num', 'KitchenQual_Num', 'BsmtCond_Num', '1stFlrSF', '2ndFlrSF', 'TotalBsmtSF', 'BedroomAbvGr', 'FullBath_Norm', 'HalfBath', 'Age', 'TotRmsAbvGrd', 'GarageArea', 'Fireplaces', 'BsmtFullBath', 'BsmtHalfBath', 'WoodDeckSF', 'OpenPorchSF', 'EnclosedPorch', '3SsnPorch', 'ScreenPorch', 'MiscVal', 'Normal', 'FV', 'RH', 'RL', 'RM', 'Blueste', 'BrDale', 'BrkSide', 'ClearCr', 'CollgCr', 'Crawfor', 'Edwards', 'Gilbert', 'IDOTRR', 'MeadowV', 'Mitchel', 'NAmes', 'NPkVill', 'NWAmes', 'NoRidge', 'NridgHt', 'OldTown', 'SWISU', 'Sawyer', 'SawyerW', 'Somerst', 'StoneBr', 'Timber']])"
   ]
  },
  {
   "cell_type": "code",
   "execution_count": 357,
   "metadata": {},
   "outputs": [
    {
     "data": {
      "text/plain": [
       "array([123090.78869769, 169132.10289438, 180655.5361162 , ...,\n",
       "       167231.23893579, 115212.94381943, 215243.91493806])"
      ]
     },
     "execution_count": 357,
     "metadata": {},
     "output_type": "execute_result"
    }
   ],
   "source": [
    "y_predict"
   ]
  },
  {
   "cell_type": "code",
   "execution_count": 358,
   "metadata": {},
   "outputs": [],
   "source": [
    "finalPredictions = pd.DataFrame({'Id':test['Id'], 'SalePrice':y_predict})"
   ]
  },
  {
   "cell_type": "code",
   "execution_count": 359,
   "metadata": {},
   "outputs": [],
   "source": [
    "finalPredictions.to_csv('ALPSsubmit.csv', index = False)"
   ]
  },
  {
   "cell_type": "code",
   "execution_count": null,
   "metadata": {},
   "outputs": [],
   "source": []
  }
 ],
 "metadata": {
  "kernelspec": {
   "display_name": "Python 3",
   "language": "python",
   "name": "python3"
  },
  "language_info": {
   "codemirror_mode": {
    "name": "ipython",
    "version": 3
   },
   "file_extension": ".py",
   "mimetype": "text/x-python",
   "name": "python",
   "nbconvert_exporter": "python",
   "pygments_lexer": "ipython3",
   "version": "3.6.4"
  }
 },
 "nbformat": 4,
 "nbformat_minor": 2
}
